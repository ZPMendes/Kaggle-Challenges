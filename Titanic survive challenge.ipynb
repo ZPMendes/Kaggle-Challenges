{
 "cells": [
  {
   "cell_type": "code",
   "execution_count": 1,
   "id": "5758e441",
   "metadata": {
    "_cell_guid": "b1076dfc-b9ad-4769-8c92-a6c4dae69d19",
    "_uuid": "8f2839f25d086af736a60e9eeb907d3b93b6e0e5",
    "execution": {
     "iopub.execute_input": "2024-10-11T17:08:02.582589Z",
     "iopub.status.busy": "2024-10-11T17:08:02.581558Z",
     "iopub.status.idle": "2024-10-11T17:08:03.402172Z",
     "shell.execute_reply": "2024-10-11T17:08:03.400987Z"
    },
    "papermill": {
     "duration": 0.838492,
     "end_time": "2024-10-11T17:08:03.404970",
     "exception": false,
     "start_time": "2024-10-11T17:08:02.566478",
     "status": "completed"
    },
    "tags": []
   },
   "outputs": [
    {
     "name": "stdout",
     "output_type": "stream",
     "text": [
      "/kaggle/input/titanic/train.csv\n",
      "/kaggle/input/titanic/test.csv\n",
      "/kaggle/input/titanic/gender_submission.csv\n"
     ]
    }
   ],
   "source": [
    "# This Python 3 environment comes with many helpful analytics libraries installed\n",
    "# It is defined by the kaggle/python Docker image: https://github.com/kaggle/docker-python\n",
    "# For example, here's several helpful packages to load\n",
    "\n",
    "import numpy as np # linear algebra\n",
    "import pandas as pd # data processing, CSV file I/O (e.g. pd.read_csv)\n",
    "\n",
    "# Input data files are available in the read-only \"../input/\" directory\n",
    "# For example, running this (by clicking run or pressing Shift+Enter) will list all files under the input directory\n",
    "\n",
    "import os\n",
    "for dirname, _, filenames in os.walk('/kaggle/input'):\n",
    "    for filename in filenames:\n",
    "        print(os.path.join(dirname, filename))\n",
    "\n",
    "# You can write up to 20GB to the current directory (/kaggle/working/) that gets preserved as output when you create a version using \"Save & Run All\" \n",
    "# You can also write temporary files to /kaggle/temp/, but they won't be saved outside of the current session"
   ]
  },
  {
   "cell_type": "code",
   "execution_count": 2,
   "id": "827cc37e",
   "metadata": {
    "execution": {
     "iopub.execute_input": "2024-10-11T17:08:03.430009Z",
     "iopub.status.busy": "2024-10-11T17:08:03.429420Z",
     "iopub.status.idle": "2024-10-11T17:08:05.138924Z",
     "shell.execute_reply": "2024-10-11T17:08:05.137749Z"
    },
    "papermill": {
     "duration": 1.725323,
     "end_time": "2024-10-11T17:08:05.142100",
     "exception": false,
     "start_time": "2024-10-11T17:08:03.416777",
     "status": "completed"
    },
    "tags": []
   },
   "outputs": [],
   "source": [
    "import seaborn as sns\n",
    "import matplotlib.pyplot as plt"
   ]
  },
  {
   "cell_type": "code",
   "execution_count": 3,
   "id": "9057b559",
   "metadata": {
    "execution": {
     "iopub.execute_input": "2024-10-11T17:08:05.167957Z",
     "iopub.status.busy": "2024-10-11T17:08:05.166597Z",
     "iopub.status.idle": "2024-10-11T17:08:05.210166Z",
     "shell.execute_reply": "2024-10-11T17:08:05.209050Z"
    },
    "papermill": {
     "duration": 0.05897,
     "end_time": "2024-10-11T17:08:05.212697",
     "exception": false,
     "start_time": "2024-10-11T17:08:05.153727",
     "status": "completed"
    },
    "tags": []
   },
   "outputs": [
    {
     "data": {
      "text/html": [
       "<div>\n",
       "<style scoped>\n",
       "    .dataframe tbody tr th:only-of-type {\n",
       "        vertical-align: middle;\n",
       "    }\n",
       "\n",
       "    .dataframe tbody tr th {\n",
       "        vertical-align: top;\n",
       "    }\n",
       "\n",
       "    .dataframe thead th {\n",
       "        text-align: right;\n",
       "    }\n",
       "</style>\n",
       "<table border=\"1\" class=\"dataframe\">\n",
       "  <thead>\n",
       "    <tr style=\"text-align: right;\">\n",
       "      <th></th>\n",
       "      <th>PassengerId</th>\n",
       "      <th>Survived</th>\n",
       "      <th>Pclass</th>\n",
       "      <th>Name</th>\n",
       "      <th>Sex</th>\n",
       "      <th>Age</th>\n",
       "      <th>SibSp</th>\n",
       "      <th>Parch</th>\n",
       "      <th>Ticket</th>\n",
       "      <th>Fare</th>\n",
       "      <th>Cabin</th>\n",
       "      <th>Embarked</th>\n",
       "    </tr>\n",
       "  </thead>\n",
       "  <tbody>\n",
       "    <tr>\n",
       "      <th>0</th>\n",
       "      <td>1</td>\n",
       "      <td>0</td>\n",
       "      <td>3</td>\n",
       "      <td>Braund, Mr. Owen Harris</td>\n",
       "      <td>male</td>\n",
       "      <td>22.0</td>\n",
       "      <td>1</td>\n",
       "      <td>0</td>\n",
       "      <td>A/5 21171</td>\n",
       "      <td>7.2500</td>\n",
       "      <td>NaN</td>\n",
       "      <td>S</td>\n",
       "    </tr>\n",
       "    <tr>\n",
       "      <th>1</th>\n",
       "      <td>2</td>\n",
       "      <td>1</td>\n",
       "      <td>1</td>\n",
       "      <td>Cumings, Mrs. John Bradley (Florence Briggs Th...</td>\n",
       "      <td>female</td>\n",
       "      <td>38.0</td>\n",
       "      <td>1</td>\n",
       "      <td>0</td>\n",
       "      <td>PC 17599</td>\n",
       "      <td>71.2833</td>\n",
       "      <td>C85</td>\n",
       "      <td>C</td>\n",
       "    </tr>\n",
       "    <tr>\n",
       "      <th>2</th>\n",
       "      <td>3</td>\n",
       "      <td>1</td>\n",
       "      <td>3</td>\n",
       "      <td>Heikkinen, Miss. Laina</td>\n",
       "      <td>female</td>\n",
       "      <td>26.0</td>\n",
       "      <td>0</td>\n",
       "      <td>0</td>\n",
       "      <td>STON/O2. 3101282</td>\n",
       "      <td>7.9250</td>\n",
       "      <td>NaN</td>\n",
       "      <td>S</td>\n",
       "    </tr>\n",
       "    <tr>\n",
       "      <th>3</th>\n",
       "      <td>4</td>\n",
       "      <td>1</td>\n",
       "      <td>1</td>\n",
       "      <td>Futrelle, Mrs. Jacques Heath (Lily May Peel)</td>\n",
       "      <td>female</td>\n",
       "      <td>35.0</td>\n",
       "      <td>1</td>\n",
       "      <td>0</td>\n",
       "      <td>113803</td>\n",
       "      <td>53.1000</td>\n",
       "      <td>C123</td>\n",
       "      <td>S</td>\n",
       "    </tr>\n",
       "    <tr>\n",
       "      <th>4</th>\n",
       "      <td>5</td>\n",
       "      <td>0</td>\n",
       "      <td>3</td>\n",
       "      <td>Allen, Mr. William Henry</td>\n",
       "      <td>male</td>\n",
       "      <td>35.0</td>\n",
       "      <td>0</td>\n",
       "      <td>0</td>\n",
       "      <td>373450</td>\n",
       "      <td>8.0500</td>\n",
       "      <td>NaN</td>\n",
       "      <td>S</td>\n",
       "    </tr>\n",
       "  </tbody>\n",
       "</table>\n",
       "</div>"
      ],
      "text/plain": [
       "   PassengerId  Survived  Pclass  \\\n",
       "0            1         0       3   \n",
       "1            2         1       1   \n",
       "2            3         1       3   \n",
       "3            4         1       1   \n",
       "4            5         0       3   \n",
       "\n",
       "                                                Name     Sex   Age  SibSp  \\\n",
       "0                            Braund, Mr. Owen Harris    male  22.0      1   \n",
       "1  Cumings, Mrs. John Bradley (Florence Briggs Th...  female  38.0      1   \n",
       "2                             Heikkinen, Miss. Laina  female  26.0      0   \n",
       "3       Futrelle, Mrs. Jacques Heath (Lily May Peel)  female  35.0      1   \n",
       "4                           Allen, Mr. William Henry    male  35.0      0   \n",
       "\n",
       "   Parch            Ticket     Fare Cabin Embarked  \n",
       "0      0         A/5 21171   7.2500   NaN        S  \n",
       "1      0          PC 17599  71.2833   C85        C  \n",
       "2      0  STON/O2. 3101282   7.9250   NaN        S  \n",
       "3      0            113803  53.1000  C123        S  \n",
       "4      0            373450   8.0500   NaN        S  "
      ]
     },
     "execution_count": 3,
     "metadata": {},
     "output_type": "execute_result"
    }
   ],
   "source": [
    "train_data = pd.read_csv(\"/kaggle/input/titanic/train.csv\")\n",
    "train_data.head()"
   ]
  },
  {
   "cell_type": "code",
   "execution_count": 4,
   "id": "826ede08",
   "metadata": {
    "execution": {
     "iopub.execute_input": "2024-10-11T17:08:05.239842Z",
     "iopub.status.busy": "2024-10-11T17:08:05.238856Z",
     "iopub.status.idle": "2024-10-11T17:08:05.246151Z",
     "shell.execute_reply": "2024-10-11T17:08:05.245090Z"
    },
    "papermill": {
     "duration": 0.023988,
     "end_time": "2024-10-11T17:08:05.248699",
     "exception": false,
     "start_time": "2024-10-11T17:08:05.224711",
     "status": "completed"
    },
    "tags": []
   },
   "outputs": [
    {
     "data": {
      "text/plain": [
       "(891, 12)"
      ]
     },
     "execution_count": 4,
     "metadata": {},
     "output_type": "execute_result"
    }
   ],
   "source": [
    "train_data.shape"
   ]
  },
  {
   "cell_type": "code",
   "execution_count": 5,
   "id": "ff047eae",
   "metadata": {
    "execution": {
     "iopub.execute_input": "2024-10-11T17:08:05.274981Z",
     "iopub.status.busy": "2024-10-11T17:08:05.274494Z",
     "iopub.status.idle": "2024-10-11T17:08:05.298924Z",
     "shell.execute_reply": "2024-10-11T17:08:05.297783Z"
    },
    "papermill": {
     "duration": 0.040665,
     "end_time": "2024-10-11T17:08:05.301645",
     "exception": false,
     "start_time": "2024-10-11T17:08:05.260980",
     "status": "completed"
    },
    "tags": []
   },
   "outputs": [
    {
     "data": {
      "text/html": [
       "<div>\n",
       "<style scoped>\n",
       "    .dataframe tbody tr th:only-of-type {\n",
       "        vertical-align: middle;\n",
       "    }\n",
       "\n",
       "    .dataframe tbody tr th {\n",
       "        vertical-align: top;\n",
       "    }\n",
       "\n",
       "    .dataframe thead th {\n",
       "        text-align: right;\n",
       "    }\n",
       "</style>\n",
       "<table border=\"1\" class=\"dataframe\">\n",
       "  <thead>\n",
       "    <tr style=\"text-align: right;\">\n",
       "      <th></th>\n",
       "      <th>PassengerId</th>\n",
       "      <th>Pclass</th>\n",
       "      <th>Name</th>\n",
       "      <th>Sex</th>\n",
       "      <th>Age</th>\n",
       "      <th>SibSp</th>\n",
       "      <th>Parch</th>\n",
       "      <th>Ticket</th>\n",
       "      <th>Fare</th>\n",
       "      <th>Cabin</th>\n",
       "      <th>Embarked</th>\n",
       "    </tr>\n",
       "  </thead>\n",
       "  <tbody>\n",
       "    <tr>\n",
       "      <th>0</th>\n",
       "      <td>892</td>\n",
       "      <td>3</td>\n",
       "      <td>Kelly, Mr. James</td>\n",
       "      <td>male</td>\n",
       "      <td>34.5</td>\n",
       "      <td>0</td>\n",
       "      <td>0</td>\n",
       "      <td>330911</td>\n",
       "      <td>7.8292</td>\n",
       "      <td>NaN</td>\n",
       "      <td>Q</td>\n",
       "    </tr>\n",
       "    <tr>\n",
       "      <th>1</th>\n",
       "      <td>893</td>\n",
       "      <td>3</td>\n",
       "      <td>Wilkes, Mrs. James (Ellen Needs)</td>\n",
       "      <td>female</td>\n",
       "      <td>47.0</td>\n",
       "      <td>1</td>\n",
       "      <td>0</td>\n",
       "      <td>363272</td>\n",
       "      <td>7.0000</td>\n",
       "      <td>NaN</td>\n",
       "      <td>S</td>\n",
       "    </tr>\n",
       "    <tr>\n",
       "      <th>2</th>\n",
       "      <td>894</td>\n",
       "      <td>2</td>\n",
       "      <td>Myles, Mr. Thomas Francis</td>\n",
       "      <td>male</td>\n",
       "      <td>62.0</td>\n",
       "      <td>0</td>\n",
       "      <td>0</td>\n",
       "      <td>240276</td>\n",
       "      <td>9.6875</td>\n",
       "      <td>NaN</td>\n",
       "      <td>Q</td>\n",
       "    </tr>\n",
       "    <tr>\n",
       "      <th>3</th>\n",
       "      <td>895</td>\n",
       "      <td>3</td>\n",
       "      <td>Wirz, Mr. Albert</td>\n",
       "      <td>male</td>\n",
       "      <td>27.0</td>\n",
       "      <td>0</td>\n",
       "      <td>0</td>\n",
       "      <td>315154</td>\n",
       "      <td>8.6625</td>\n",
       "      <td>NaN</td>\n",
       "      <td>S</td>\n",
       "    </tr>\n",
       "    <tr>\n",
       "      <th>4</th>\n",
       "      <td>896</td>\n",
       "      <td>3</td>\n",
       "      <td>Hirvonen, Mrs. Alexander (Helga E Lindqvist)</td>\n",
       "      <td>female</td>\n",
       "      <td>22.0</td>\n",
       "      <td>1</td>\n",
       "      <td>1</td>\n",
       "      <td>3101298</td>\n",
       "      <td>12.2875</td>\n",
       "      <td>NaN</td>\n",
       "      <td>S</td>\n",
       "    </tr>\n",
       "  </tbody>\n",
       "</table>\n",
       "</div>"
      ],
      "text/plain": [
       "   PassengerId  Pclass                                          Name     Sex  \\\n",
       "0          892       3                              Kelly, Mr. James    male   \n",
       "1          893       3              Wilkes, Mrs. James (Ellen Needs)  female   \n",
       "2          894       2                     Myles, Mr. Thomas Francis    male   \n",
       "3          895       3                              Wirz, Mr. Albert    male   \n",
       "4          896       3  Hirvonen, Mrs. Alexander (Helga E Lindqvist)  female   \n",
       "\n",
       "    Age  SibSp  Parch   Ticket     Fare Cabin Embarked  \n",
       "0  34.5      0      0   330911   7.8292   NaN        Q  \n",
       "1  47.0      1      0   363272   7.0000   NaN        S  \n",
       "2  62.0      0      0   240276   9.6875   NaN        Q  \n",
       "3  27.0      0      0   315154   8.6625   NaN        S  \n",
       "4  22.0      1      1  3101298  12.2875   NaN        S  "
      ]
     },
     "execution_count": 5,
     "metadata": {},
     "output_type": "execute_result"
    }
   ],
   "source": [
    "test_data = pd.read_csv(\"/kaggle/input/titanic/test.csv\")\n",
    "test_data.head()"
   ]
  },
  {
   "cell_type": "code",
   "execution_count": 6,
   "id": "ef49dfdf",
   "metadata": {
    "execution": {
     "iopub.execute_input": "2024-10-11T17:08:05.328727Z",
     "iopub.status.busy": "2024-10-11T17:08:05.327574Z",
     "iopub.status.idle": "2024-10-11T17:08:05.334861Z",
     "shell.execute_reply": "2024-10-11T17:08:05.333753Z"
    },
    "papermill": {
     "duration": 0.023252,
     "end_time": "2024-10-11T17:08:05.337372",
     "exception": false,
     "start_time": "2024-10-11T17:08:05.314120",
     "status": "completed"
    },
    "tags": []
   },
   "outputs": [
    {
     "data": {
      "text/plain": [
       "(418, 11)"
      ]
     },
     "execution_count": 6,
     "metadata": {},
     "output_type": "execute_result"
    }
   ],
   "source": [
    "test_data.shape"
   ]
  },
  {
   "cell_type": "markdown",
   "id": "498a5a12",
   "metadata": {
    "papermill": {
     "duration": 0.012193,
     "end_time": "2024-10-11T17:08:05.362035",
     "exception": false,
     "start_time": "2024-10-11T17:08:05.349842",
     "status": "completed"
    },
    "tags": []
   },
   "source": [
    "# Exploring the training data"
   ]
  },
  {
   "cell_type": "code",
   "execution_count": 7,
   "id": "b6d45b19",
   "metadata": {
    "execution": {
     "iopub.execute_input": "2024-10-11T17:08:05.388371Z",
     "iopub.status.busy": "2024-10-11T17:08:05.387919Z",
     "iopub.status.idle": "2024-10-11T17:08:05.399031Z",
     "shell.execute_reply": "2024-10-11T17:08:05.397936Z"
    },
    "papermill": {
     "duration": 0.027309,
     "end_time": "2024-10-11T17:08:05.401548",
     "exception": false,
     "start_time": "2024-10-11T17:08:05.374239",
     "status": "completed"
    },
    "tags": []
   },
   "outputs": [],
   "source": [
    "# Removing columns \"Name\", \"Ticket\" and \"Passenger ID\" as they don't have a meaning\n",
    "\n",
    "eda_data = train_data.drop(columns = (['Name', 'PassengerId', 'Ticket']))"
   ]
  },
  {
   "cell_type": "code",
   "execution_count": 8,
   "id": "b4f7231f",
   "metadata": {
    "execution": {
     "iopub.execute_input": "2024-10-11T17:08:05.428007Z",
     "iopub.status.busy": "2024-10-11T17:08:05.427562Z",
     "iopub.status.idle": "2024-10-11T17:08:05.957440Z",
     "shell.execute_reply": "2024-10-11T17:08:05.956335Z"
    },
    "papermill": {
     "duration": 0.546048,
     "end_time": "2024-10-11T17:08:05.959963",
     "exception": false,
     "start_time": "2024-10-11T17:08:05.413915",
     "status": "completed"
    },
    "tags": []
   },
   "outputs": [
    {
     "data": {
      "text/plain": [
       "<Axes: >"
      ]
     },
     "execution_count": 8,
     "metadata": {},
     "output_type": "execute_result"
    },
    {
     "data": {
      "image/png": "[encoded data removed]",
      "text/plain": [
       "<Figure size 640x480 with 2 Axes>"
      ]
     },
     "metadata": {},
     "output_type": "display_data"
    }
   ],
   "source": [
    "# Correlation matrix of the numeric features to check if there is a noticiable correlation between the target feature and any of the others\n",
    "sns.heatmap(eda_data[['Pclass', 'Age', 'SibSp', 'Parch', 'Fare', 'Survived']].corr(), vmin = -1, vmax = 1, annot = True)"
   ]
  },
  {
   "cell_type": "code",
   "execution_count": 9,
   "id": "8bfbfacc",
   "metadata": {
    "execution": {
     "iopub.execute_input": "2024-10-11T17:08:05.988473Z",
     "iopub.status.busy": "2024-10-11T17:08:05.988037Z",
     "iopub.status.idle": "2024-10-11T17:08:06.256959Z",
     "shell.execute_reply": "2024-10-11T17:08:06.255848Z"
    },
    "papermill": {
     "duration": 0.286173,
     "end_time": "2024-10-11T17:08:06.259440",
     "exception": false,
     "start_time": "2024-10-11T17:08:05.973267",
     "status": "completed"
    },
    "tags": []
   },
   "outputs": [
    {
     "data": {
      "text/plain": [
       "<Axes: xlabel='Sex', ylabel='count'>"
      ]
     },
     "execution_count": 9,
     "metadata": {},
     "output_type": "execute_result"
    },
    {
     "data": {
      "image/png": "[encoded data removed]",
      "text/plain": [
       "<Figure size 640x480 with 1 Axes>"
      ]
     },
     "metadata": {},
     "output_type": "display_data"
    }
   ],
   "source": [
    "# Do a countplot to check if there is any relation between the target variable and the Sex\n",
    "sns.countplot(x='Sex', hue='Survived', data = eda_data)\n",
    "#Below we can see a trend where most male died while most female lived"
   ]
  },
  {
   "cell_type": "code",
   "execution_count": 10,
   "id": "a225cb14",
   "metadata": {
    "execution": {
     "iopub.execute_input": "2024-10-11T17:08:06.288824Z",
     "iopub.status.busy": "2024-10-11T17:08:06.288085Z",
     "iopub.status.idle": "2024-10-11T17:08:06.591952Z",
     "shell.execute_reply": "2024-10-11T17:08:06.590889Z"
    },
    "papermill": {
     "duration": 0.321467,
     "end_time": "2024-10-11T17:08:06.594715",
     "exception": false,
     "start_time": "2024-10-11T17:08:06.273248",
     "status": "completed"
    },
    "tags": []
   },
   "outputs": [
    {
     "data": {
      "text/plain": [
       "<Axes: xlabel='Embarked', ylabel='count'>"
      ]
     },
     "execution_count": 10,
     "metadata": {},
     "output_type": "execute_result"
    },
    {
     "data": {
      "image/png": "[encoded data removed]",
      "text/plain": [
       "<Figure size 640x480 with 1 Axes>"
      ]
     },
     "metadata": {},
     "output_type": "display_data"
    }
   ],
   "source": [
    "# Do a countplot to check if there is any relation between the target variable and the Port they embarked\n",
    "sns.countplot(x='Embarked', hue='Survived', data = eda_data)\n",
    "# At first seight it seems that people who embarked on Cherbourg had a bigger chance of living\n",
    "# Altought it may not make sense at first, we will keep this feature to check if ot impacts the models predictions"
   ]
  },
  {
   "cell_type": "code",
   "execution_count": 11,
   "id": "da034524",
   "metadata": {
    "execution": {
     "iopub.execute_input": "2024-10-11T17:08:06.625037Z",
     "iopub.status.busy": "2024-10-11T17:08:06.624608Z",
     "iopub.status.idle": "2024-10-11T17:08:06.640727Z",
     "shell.execute_reply": "2024-10-11T17:08:06.639562Z"
    },
    "papermill": {
     "duration": 0.034115,
     "end_time": "2024-10-11T17:08:06.643238",
     "exception": false,
     "start_time": "2024-10-11T17:08:06.609123",
     "status": "completed"
    },
    "tags": []
   },
   "outputs": [
    {
     "data": {
      "text/html": [
       "<div>\n",
       "<style scoped>\n",
       "    .dataframe tbody tr th:only-of-type {\n",
       "        vertical-align: middle;\n",
       "    }\n",
       "\n",
       "    .dataframe tbody tr th {\n",
       "        vertical-align: top;\n",
       "    }\n",
       "\n",
       "    .dataframe thead th {\n",
       "        text-align: right;\n",
       "    }\n",
       "</style>\n",
       "<table border=\"1\" class=\"dataframe\">\n",
       "  <thead>\n",
       "    <tr style=\"text-align: right;\">\n",
       "      <th></th>\n",
       "      <th>Survived</th>\n",
       "      <th>Pclass</th>\n",
       "      <th>Sex</th>\n",
       "      <th>Age</th>\n",
       "      <th>SibSp</th>\n",
       "      <th>Parch</th>\n",
       "      <th>Fare</th>\n",
       "      <th>Cabin</th>\n",
       "      <th>Embarked</th>\n",
       "    </tr>\n",
       "  </thead>\n",
       "  <tbody>\n",
       "    <tr>\n",
       "      <th>0</th>\n",
       "      <td>0</td>\n",
       "      <td>3</td>\n",
       "      <td>male</td>\n",
       "      <td>22.0</td>\n",
       "      <td>1</td>\n",
       "      <td>0</td>\n",
       "      <td>7.2500</td>\n",
       "      <td>NaN</td>\n",
       "      <td>S</td>\n",
       "    </tr>\n",
       "    <tr>\n",
       "      <th>1</th>\n",
       "      <td>1</td>\n",
       "      <td>1</td>\n",
       "      <td>female</td>\n",
       "      <td>38.0</td>\n",
       "      <td>1</td>\n",
       "      <td>0</td>\n",
       "      <td>71.2833</td>\n",
       "      <td>C85</td>\n",
       "      <td>C</td>\n",
       "    </tr>\n",
       "    <tr>\n",
       "      <th>2</th>\n",
       "      <td>1</td>\n",
       "      <td>3</td>\n",
       "      <td>female</td>\n",
       "      <td>26.0</td>\n",
       "      <td>0</td>\n",
       "      <td>0</td>\n",
       "      <td>7.9250</td>\n",
       "      <td>NaN</td>\n",
       "      <td>S</td>\n",
       "    </tr>\n",
       "    <tr>\n",
       "      <th>3</th>\n",
       "      <td>1</td>\n",
       "      <td>1</td>\n",
       "      <td>female</td>\n",
       "      <td>35.0</td>\n",
       "      <td>1</td>\n",
       "      <td>0</td>\n",
       "      <td>53.1000</td>\n",
       "      <td>C123</td>\n",
       "      <td>S</td>\n",
       "    </tr>\n",
       "    <tr>\n",
       "      <th>4</th>\n",
       "      <td>0</td>\n",
       "      <td>3</td>\n",
       "      <td>male</td>\n",
       "      <td>35.0</td>\n",
       "      <td>0</td>\n",
       "      <td>0</td>\n",
       "      <td>8.0500</td>\n",
       "      <td>NaN</td>\n",
       "      <td>S</td>\n",
       "    </tr>\n",
       "  </tbody>\n",
       "</table>\n",
       "</div>"
      ],
      "text/plain": [
       "   Survived  Pclass     Sex   Age  SibSp  Parch     Fare Cabin Embarked\n",
       "0         0       3    male  22.0      1      0   7.2500   NaN        S\n",
       "1         1       1  female  38.0      1      0  71.2833   C85        C\n",
       "2         1       3  female  26.0      0      0   7.9250   NaN        S\n",
       "3         1       1  female  35.0      1      0  53.1000  C123        S\n",
       "4         0       3    male  35.0      0      0   8.0500   NaN        S"
      ]
     },
     "execution_count": 11,
     "metadata": {},
     "output_type": "execute_result"
    }
   ],
   "source": [
    "eda_data.head()"
   ]
  },
  {
   "cell_type": "code",
   "execution_count": 12,
   "id": "d7f7afe7",
   "metadata": {
    "execution": {
     "iopub.execute_input": "2024-10-11T17:08:06.674795Z",
     "iopub.status.busy": "2024-10-11T17:08:06.674044Z",
     "iopub.status.idle": "2024-10-11T17:08:06.682764Z",
     "shell.execute_reply": "2024-10-11T17:08:06.681600Z"
    },
    "papermill": {
     "duration": 0.027637,
     "end_time": "2024-10-11T17:08:06.685956",
     "exception": false,
     "start_time": "2024-10-11T17:08:06.658319",
     "status": "completed"
    },
    "tags": []
   },
   "outputs": [
    {
     "name": "stdout",
     "output_type": "stream",
     "text": [
      "the column Survived has 0 missing data points\n",
      "the column Pclass has 0 missing data points\n",
      "the column Sex has 0 missing data points\n",
      "the column Age has 177 missing data points\n",
      "the column SibSp has 0 missing data points\n",
      "the column Parch has 0 missing data points\n",
      "the column Fare has 0 missing data points\n",
      "the column Cabin has 687 missing data points\n",
      "the column Embarked has 2 missing data points\n"
     ]
    }
   ],
   "source": [
    "# Check if there are null values on the data\n",
    "for column in eda_data.columns:\n",
    "    nan_count = eda_data[column].isna().sum()\n",
    "    print(f'the column {column} has {nan_count} missing data points')"
   ]
  },
  {
   "cell_type": "markdown",
   "id": "2e9398a5",
   "metadata": {
    "papermill": {
     "duration": 0.014291,
     "end_time": "2024-10-11T17:08:06.714872",
     "exception": false,
     "start_time": "2024-10-11T17:08:06.700581",
     "status": "completed"
    },
    "tags": []
   },
   "source": [
    "The column \"Cabin\" has too many missing values, so I'll remove it from the dataset\n",
    "\n",
    "The column \"Embarked\" has only two missing values so I'll attribute them the most common embark port\n",
    "\n",
    "The column \"Age\" has 177 missing values, but they can't be ignored, so I'll impute the average age according to their sex"
   ]
  },
  {
   "cell_type": "code",
   "execution_count": 13,
   "id": "ceb623ae",
   "metadata": {
    "execution": {
     "iopub.execute_input": "2024-10-11T17:08:06.745953Z",
     "iopub.status.busy": "2024-10-11T17:08:06.745515Z",
     "iopub.status.idle": "2024-10-11T17:08:06.751721Z",
     "shell.execute_reply": "2024-10-11T17:08:06.750582Z"
    },
    "papermill": {
     "duration": 0.024567,
     "end_time": "2024-10-11T17:08:06.754168",
     "exception": false,
     "start_time": "2024-10-11T17:08:06.729601",
     "status": "completed"
    },
    "tags": []
   },
   "outputs": [],
   "source": [
    "# Droping the \"Cabin\" column\n",
    "eda_data.drop(columns=['Cabin'], inplace = True)\n"
   ]
  },
  {
   "cell_type": "code",
   "execution_count": 14,
   "id": "c37464cf",
   "metadata": {
    "execution": {
     "iopub.execute_input": "2024-10-11T17:08:06.785079Z",
     "iopub.status.busy": "2024-10-11T17:08:06.784318Z",
     "iopub.status.idle": "2024-10-11T17:08:06.790949Z",
     "shell.execute_reply": "2024-10-11T17:08:06.789781Z"
    },
    "papermill": {
     "duration": 0.024716,
     "end_time": "2024-10-11T17:08:06.793436",
     "exception": false,
     "start_time": "2024-10-11T17:08:06.768720",
     "status": "completed"
    },
    "tags": []
   },
   "outputs": [],
   "source": [
    "#As we saw, most passengers embarked from \"Southampton\", so I'll impute it to those 2 passagenrs\n",
    "eda_data['Embarked'] = eda_data['Embarked'].fillna('S')"
   ]
  },
  {
   "cell_type": "code",
   "execution_count": 15,
   "id": "8cdcca6c",
   "metadata": {
    "execution": {
     "iopub.execute_input": "2024-10-11T17:08:06.825195Z",
     "iopub.status.busy": "2024-10-11T17:08:06.824208Z",
     "iopub.status.idle": "2024-10-11T17:08:06.834538Z",
     "shell.execute_reply": "2024-10-11T17:08:06.833554Z"
    },
    "papermill": {
     "duration": 0.028852,
     "end_time": "2024-10-11T17:08:06.837031",
     "exception": false,
     "start_time": "2024-10-11T17:08:06.808179",
     "status": "completed"
    },
    "tags": []
   },
   "outputs": [],
   "source": [
    "# Filling the 'Age' NaN with the average age of each 'Sex'\n",
    "\n",
    "eda_data['Age'] = eda_data['Age'].fillna(eda_data.groupby('Sex')['Age'].transform('mean'))"
   ]
  },
  {
   "cell_type": "markdown",
   "id": "e1c3fecf",
   "metadata": {
    "papermill": {
     "duration": 0.014301,
     "end_time": "2024-10-11T17:08:06.867371",
     "exception": false,
     "start_time": "2024-10-11T17:08:06.853070",
     "status": "completed"
    },
    "tags": []
   },
   "source": [
    "# Preprocess the data to feed the model"
   ]
  },
  {
   "cell_type": "code",
   "execution_count": 16,
   "id": "7425538a",
   "metadata": {
    "execution": {
     "iopub.execute_input": "2024-10-11T17:08:06.898904Z",
     "iopub.status.busy": "2024-10-11T17:08:06.897898Z",
     "iopub.status.idle": "2024-10-11T17:08:07.146911Z",
     "shell.execute_reply": "2024-10-11T17:08:07.145876Z"
    },
    "papermill": {
     "duration": 0.267532,
     "end_time": "2024-10-11T17:08:07.149603",
     "exception": false,
     "start_time": "2024-10-11T17:08:06.882071",
     "status": "completed"
    },
    "tags": []
   },
   "outputs": [],
   "source": [
    "from sklearn.model_selection import train_test_split #It won't be necessary\n",
    "from sklearn.preprocessing import OneHotEncoder, StandardScaler, OrdinalEncoder\n",
    "from sklearn.compose import ColumnTransformer"
   ]
  },
  {
   "cell_type": "code",
   "execution_count": 17,
   "id": "2b5ac5ee",
   "metadata": {
    "execution": {
     "iopub.execute_input": "2024-10-11T17:08:07.182441Z",
     "iopub.status.busy": "2024-10-11T17:08:07.181999Z",
     "iopub.status.idle": "2024-10-11T17:08:07.188556Z",
     "shell.execute_reply": "2024-10-11T17:08:07.187330Z"
    },
    "papermill": {
     "duration": 0.025958,
     "end_time": "2024-10-11T17:08:07.190929",
     "exception": false,
     "start_time": "2024-10-11T17:08:07.164971",
     "status": "completed"
    },
    "tags": []
   },
   "outputs": [],
   "source": [
    "X_train = eda_data.drop(columns = 'Survived')\n",
    "y_train = eda_data['Survived']"
   ]
  },
  {
   "cell_type": "code",
   "execution_count": 18,
   "id": "22a60e3c",
   "metadata": {
    "execution": {
     "iopub.execute_input": "2024-10-11T17:08:07.221856Z",
     "iopub.status.busy": "2024-10-11T17:08:07.221380Z",
     "iopub.status.idle": "2024-10-11T17:08:07.236312Z",
     "shell.execute_reply": "2024-10-11T17:08:07.235273Z"
    },
    "papermill": {
     "duration": 0.033231,
     "end_time": "2024-10-11T17:08:07.238714",
     "exception": false,
     "start_time": "2024-10-11T17:08:07.205483",
     "status": "completed"
    },
    "tags": []
   },
   "outputs": [
    {
     "data": {
      "text/html": [
       "<div>\n",
       "<style scoped>\n",
       "    .dataframe tbody tr th:only-of-type {\n",
       "        vertical-align: middle;\n",
       "    }\n",
       "\n",
       "    .dataframe tbody tr th {\n",
       "        vertical-align: top;\n",
       "    }\n",
       "\n",
       "    .dataframe thead th {\n",
       "        text-align: right;\n",
       "    }\n",
       "</style>\n",
       "<table border=\"1\" class=\"dataframe\">\n",
       "  <thead>\n",
       "    <tr style=\"text-align: right;\">\n",
       "      <th></th>\n",
       "      <th>Pclass</th>\n",
       "      <th>Sex</th>\n",
       "      <th>Age</th>\n",
       "      <th>SibSp</th>\n",
       "      <th>Parch</th>\n",
       "      <th>Fare</th>\n",
       "      <th>Embarked</th>\n",
       "    </tr>\n",
       "  </thead>\n",
       "  <tbody>\n",
       "    <tr>\n",
       "      <th>0</th>\n",
       "      <td>3</td>\n",
       "      <td>male</td>\n",
       "      <td>22.0</td>\n",
       "      <td>1</td>\n",
       "      <td>0</td>\n",
       "      <td>7.2500</td>\n",
       "      <td>S</td>\n",
       "    </tr>\n",
       "    <tr>\n",
       "      <th>1</th>\n",
       "      <td>1</td>\n",
       "      <td>female</td>\n",
       "      <td>38.0</td>\n",
       "      <td>1</td>\n",
       "      <td>0</td>\n",
       "      <td>71.2833</td>\n",
       "      <td>C</td>\n",
       "    </tr>\n",
       "    <tr>\n",
       "      <th>2</th>\n",
       "      <td>3</td>\n",
       "      <td>female</td>\n",
       "      <td>26.0</td>\n",
       "      <td>0</td>\n",
       "      <td>0</td>\n",
       "      <td>7.9250</td>\n",
       "      <td>S</td>\n",
       "    </tr>\n",
       "    <tr>\n",
       "      <th>3</th>\n",
       "      <td>1</td>\n",
       "      <td>female</td>\n",
       "      <td>35.0</td>\n",
       "      <td>1</td>\n",
       "      <td>0</td>\n",
       "      <td>53.1000</td>\n",
       "      <td>S</td>\n",
       "    </tr>\n",
       "    <tr>\n",
       "      <th>4</th>\n",
       "      <td>3</td>\n",
       "      <td>male</td>\n",
       "      <td>35.0</td>\n",
       "      <td>0</td>\n",
       "      <td>0</td>\n",
       "      <td>8.0500</td>\n",
       "      <td>S</td>\n",
       "    </tr>\n",
       "  </tbody>\n",
       "</table>\n",
       "</div>"
      ],
      "text/plain": [
       "   Pclass     Sex   Age  SibSp  Parch     Fare Embarked\n",
       "0       3    male  22.0      1      0   7.2500        S\n",
       "1       1  female  38.0      1      0  71.2833        C\n",
       "2       3  female  26.0      0      0   7.9250        S\n",
       "3       1  female  35.0      1      0  53.1000        S\n",
       "4       3    male  35.0      0      0   8.0500        S"
      ]
     },
     "execution_count": 18,
     "metadata": {},
     "output_type": "execute_result"
    }
   ],
   "source": [
    "X_train.head()"
   ]
  },
  {
   "cell_type": "code",
   "execution_count": 19,
   "id": "dced0728",
   "metadata": {
    "execution": {
     "iopub.execute_input": "2024-10-11T17:08:07.269984Z",
     "iopub.status.busy": "2024-10-11T17:08:07.269503Z",
     "iopub.status.idle": "2024-10-11T17:08:07.274889Z",
     "shell.execute_reply": "2024-10-11T17:08:07.273855Z"
    },
    "papermill": {
     "duration": 0.023849,
     "end_time": "2024-10-11T17:08:07.277293",
     "exception": false,
     "start_time": "2024-10-11T17:08:07.253444",
     "status": "completed"
    },
    "tags": []
   },
   "outputs": [],
   "source": [
    "# Define the columns to encode\n",
    "\n",
    "categorical_columns = ['Sex', 'Embarked']\n",
    "ordinal_columns = ['Pclass']\n",
    "numerical_columns = ['Age', 'SibSp', 'Parch', 'Fare']\n",
    "\n"
   ]
  },
  {
   "cell_type": "code",
   "execution_count": 20,
   "id": "ede0d192",
   "metadata": {
    "execution": {
     "iopub.execute_input": "2024-10-11T17:08:07.308678Z",
     "iopub.status.busy": "2024-10-11T17:08:07.308196Z",
     "iopub.status.idle": "2024-10-11T17:08:07.313914Z",
     "shell.execute_reply": "2024-10-11T17:08:07.312725Z"
    },
    "papermill": {
     "duration": 0.02428,
     "end_time": "2024-10-11T17:08:07.316396",
     "exception": false,
     "start_time": "2024-10-11T17:08:07.292116",
     "status": "completed"
    },
    "tags": []
   },
   "outputs": [],
   "source": [
    "# Instantiate the transformer to apply to each column type\n",
    "\n",
    "categorical_transformer = OneHotEncoder()\n",
    "ordinal_transformer = OrdinalEncoder()\n",
    "numerical_transformer = StandardScaler()"
   ]
  },
  {
   "cell_type": "code",
   "execution_count": 21,
   "id": "efcbdd28",
   "metadata": {
    "execution": {
     "iopub.execute_input": "2024-10-11T17:08:07.348342Z",
     "iopub.status.busy": "2024-10-11T17:08:07.347337Z",
     "iopub.status.idle": "2024-10-11T17:08:07.353455Z",
     "shell.execute_reply": "2024-10-11T17:08:07.352294Z"
    },
    "papermill": {
     "duration": 0.024764,
     "end_time": "2024-10-11T17:08:07.356093",
     "exception": false,
     "start_time": "2024-10-11T17:08:07.331329",
     "status": "completed"
    },
    "tags": []
   },
   "outputs": [],
   "source": [
    "# Create the processor to make the tranformations\n",
    "\n",
    "preprocessor = ColumnTransformer(\n",
    "    [\n",
    "        (\"cat\", categorical_transformer, categorical_columns),\n",
    "        (\"ord\", ordinal_transformer, ordinal_columns),\n",
    "        (\"num\", numerical_transformer, numerical_columns)\n",
    "    ]\n",
    ")"
   ]
  },
  {
   "cell_type": "code",
   "execution_count": 22,
   "id": "7e814dfe",
   "metadata": {
    "execution": {
     "iopub.execute_input": "2024-10-11T17:08:07.387853Z",
     "iopub.status.busy": "2024-10-11T17:08:07.387364Z",
     "iopub.status.idle": "2024-10-11T17:08:07.409413Z",
     "shell.execute_reply": "2024-10-11T17:08:07.408235Z"
    },
    "papermill": {
     "duration": 0.04136,
     "end_time": "2024-10-11T17:08:07.412343",
     "exception": false,
     "start_time": "2024-10-11T17:08:07.370983",
     "status": "completed"
    },
    "tags": []
   },
   "outputs": [],
   "source": [
    "# Transform the data and fit the preprocessor\n",
    "\n",
    "X_train_transformed = preprocessor.fit_transform(X_train)"
   ]
  },
  {
   "cell_type": "markdown",
   "id": "149325eb",
   "metadata": {
    "papermill": {
     "duration": 0.014255,
     "end_time": "2024-10-11T17:08:07.441490",
     "exception": false,
     "start_time": "2024-10-11T17:08:07.427235",
     "status": "completed"
    },
    "tags": []
   },
   "source": [
    "# Neural Network model"
   ]
  },
  {
   "cell_type": "code",
   "execution_count": 23,
   "id": "1b29e15e",
   "metadata": {
    "execution": {
     "iopub.execute_input": "2024-10-11T17:08:07.472675Z",
     "iopub.status.busy": "2024-10-11T17:08:07.472213Z",
     "iopub.status.idle": "2024-10-11T17:08:20.961618Z",
     "shell.execute_reply": "2024-10-11T17:08:20.960448Z"
    },
    "papermill": {
     "duration": 13.508304,
     "end_time": "2024-10-11T17:08:20.964503",
     "exception": false,
     "start_time": "2024-10-11T17:08:07.456199",
     "status": "completed"
    },
    "tags": []
   },
   "outputs": [],
   "source": [
    "import tensorflow as tf\n",
    "from tensorflow.keras.models import Sequential\n",
    "from tensorflow.keras.layers import Dense"
   ]
  },
  {
   "cell_type": "code",
   "execution_count": 24,
   "id": "8d236f69",
   "metadata": {
    "execution": {
     "iopub.execute_input": "2024-10-11T17:08:20.997151Z",
     "iopub.status.busy": "2024-10-11T17:08:20.995709Z",
     "iopub.status.idle": "2024-10-11T17:08:21.003348Z",
     "shell.execute_reply": "2024-10-11T17:08:21.002305Z"
    },
    "papermill": {
     "duration": 0.026053,
     "end_time": "2024-10-11T17:08:21.005701",
     "exception": false,
     "start_time": "2024-10-11T17:08:20.979648",
     "status": "completed"
    },
    "tags": []
   },
   "outputs": [
    {
     "data": {
      "text/plain": [
       "(891, 10)"
      ]
     },
     "execution_count": 24,
     "metadata": {},
     "output_type": "execute_result"
    }
   ],
   "source": [
    "X_train_transformed.shape"
   ]
  },
  {
   "cell_type": "code",
   "execution_count": 25,
   "id": "6d6acaa7",
   "metadata": {
    "execution": {
     "iopub.execute_input": "2024-10-11T17:08:21.037858Z",
     "iopub.status.busy": "2024-10-11T17:08:21.036978Z",
     "iopub.status.idle": "2024-10-11T17:08:21.042262Z",
     "shell.execute_reply": "2024-10-11T17:08:21.041184Z"
    },
    "papermill": {
     "duration": 0.024046,
     "end_time": "2024-10-11T17:08:21.044774",
     "exception": false,
     "start_time": "2024-10-11T17:08:21.020728",
     "status": "completed"
    },
    "tags": []
   },
   "outputs": [],
   "source": [
    "# Reshape the X_train_transformed to feed the model\n",
    "X_train_transformed = X_train_transformed.reshape((X_train_transformed.shape[0], 1, X_train_transformed.shape[1]))"
   ]
  },
  {
   "cell_type": "code",
   "execution_count": 26,
   "id": "4ac29659",
   "metadata": {
    "execution": {
     "iopub.execute_input": "2024-10-11T17:08:21.077483Z",
     "iopub.status.busy": "2024-10-11T17:08:21.076489Z",
     "iopub.status.idle": "2024-10-11T17:08:21.166392Z",
     "shell.execute_reply": "2024-10-11T17:08:21.165051Z"
    },
    "papermill": {
     "duration": 0.109423,
     "end_time": "2024-10-11T17:08:21.169263",
     "exception": false,
     "start_time": "2024-10-11T17:08:21.059840",
     "status": "completed"
    },
    "tags": []
   },
   "outputs": [],
   "source": [
    "model = Sequential(\n",
    "    [\n",
    "        tf.keras.Input(shape=(891,10)),\n",
    "        tf.keras.layers.Dense(64, activation = 'relu'),\n",
    "        tf.keras.layers.Dense(32, activation = 'relu'),\n",
    "        tf.keras.layers.Dense(1, activation = 'sigmoid')\n",
    "    ]    \n",
    ")"
   ]
  },
  {
   "cell_type": "code",
   "execution_count": 27,
   "id": "af4d2ff2",
   "metadata": {
    "execution": {
     "iopub.execute_input": "2024-10-11T17:08:21.201220Z",
     "iopub.status.busy": "2024-10-11T17:08:21.200780Z",
     "iopub.status.idle": "2024-10-11T17:08:21.224638Z",
     "shell.execute_reply": "2024-10-11T17:08:21.223438Z"
    },
    "papermill": {
     "duration": 0.042706,
     "end_time": "2024-10-11T17:08:21.227157",
     "exception": false,
     "start_time": "2024-10-11T17:08:21.184451",
     "status": "completed"
    },
    "tags": []
   },
   "outputs": [
    {
     "data": {
      "text/html": [
       "<pre style=\"white-space:pre;overflow-x:auto;line-height:normal;font-family:Menlo,'DejaVu Sans Mono',consolas,'Courier New',monospace\"><span style=\"font-weight: bold\">Model: \"sequential\"</span>\n",
       "</pre>\n"
      ],
      "text/plain": [
       "\u001b[1mModel: \"sequential\"\u001b[0m\n"
      ]
     },
     "metadata": {},
     "output_type": "display_data"
    },
    {
     "data": {
      "text/html": [
       "<pre style=\"white-space:pre;overflow-x:auto;line-height:normal;font-family:Menlo,'DejaVu Sans Mono',consolas,'Courier New',monospace\">┏━━━━━━━━━━━━━━━━━━━━━━━━━━━━━━━━━┳━━━━━━━━━━━━━━━━━━━━━━━━┳━━━━━━━━━━━━━━━┓\n",
       "┃<span style=\"font-weight: bold\"> Layer (type)                    </span>┃<span style=\"font-weight: bold\"> Output Shape           </span>┃<span style=\"font-weight: bold\">       Param # </span>┃\n",
       "┡━━━━━━━━━━━━━━━━━━━━━━━━━━━━━━━━━╇━━━━━━━━━━━━━━━━━━━━━━━━╇━━━━━━━━━━━━━━━┩\n",
       "│ dense (<span style=\"color: #0087ff; text-decoration-color: #0087ff\">Dense</span>)                   │ (<span style=\"color: #00d7ff; text-decoration-color: #00d7ff\">None</span>, <span style=\"color: #00af00; text-decoration-color: #00af00\">891</span>, <span style=\"color: #00af00; text-decoration-color: #00af00\">64</span>)        │           <span style=\"color: #00af00; text-decoration-color: #00af00\">704</span> │\n",
       "├─────────────────────────────────┼────────────────────────┼───────────────┤\n",
       "│ dense_1 (<span style=\"color: #0087ff; text-decoration-color: #0087ff\">Dense</span>)                 │ (<span style=\"color: #00d7ff; text-decoration-color: #00d7ff\">None</span>, <span style=\"color: #00af00; text-decoration-color: #00af00\">891</span>, <span style=\"color: #00af00; text-decoration-color: #00af00\">32</span>)        │         <span style=\"color: #00af00; text-decoration-color: #00af00\">2,080</span> │\n",
       "├─────────────────────────────────┼────────────────────────┼───────────────┤\n",
       "│ dense_2 (<span style=\"color: #0087ff; text-decoration-color: #0087ff\">Dense</span>)                 │ (<span style=\"color: #00d7ff; text-decoration-color: #00d7ff\">None</span>, <span style=\"color: #00af00; text-decoration-color: #00af00\">891</span>, <span style=\"color: #00af00; text-decoration-color: #00af00\">1</span>)         │            <span style=\"color: #00af00; text-decoration-color: #00af00\">33</span> │\n",
       "└─────────────────────────────────┴────────────────────────┴───────────────┘\n",
       "</pre>\n"
      ],
      "text/plain": [
       "┏━━━━━━━━━━━━━━━━━━━━━━━━━━━━━━━━━┳━━━━━━━━━━━━━━━━━━━━━━━━┳━━━━━━━━━━━━━━━┓\n",
       "┃\u001b[1m \u001b[0m\u001b[1mLayer (type)                   \u001b[0m\u001b[1m \u001b[0m┃\u001b[1m \u001b[0m\u001b[1mOutput Shape          \u001b[0m\u001b[1m \u001b[0m┃\u001b[1m \u001b[0m\u001b[1m      Param #\u001b[0m\u001b[1m \u001b[0m┃\n",
       "┡━━━━━━━━━━━━━━━━━━━━━━━━━━━━━━━━━╇━━━━━━━━━━━━━━━━━━━━━━━━╇━━━━━━━━━━━━━━━┩\n",
       "│ dense (\u001b[38;5;33mDense\u001b[0m)                   │ (\u001b[38;5;45mNone\u001b[0m, \u001b[38;5;34m891\u001b[0m, \u001b[38;5;34m64\u001b[0m)        │           \u001b[38;5;34m704\u001b[0m │\n",
       "├─────────────────────────────────┼────────────────────────┼───────────────┤\n",
       "│ dense_1 (\u001b[38;5;33mDense\u001b[0m)                 │ (\u001b[38;5;45mNone\u001b[0m, \u001b[38;5;34m891\u001b[0m, \u001b[38;5;34m32\u001b[0m)        │         \u001b[38;5;34m2,080\u001b[0m │\n",
       "├─────────────────────────────────┼────────────────────────┼───────────────┤\n",
       "│ dense_2 (\u001b[38;5;33mDense\u001b[0m)                 │ (\u001b[38;5;45mNone\u001b[0m, \u001b[38;5;34m891\u001b[0m, \u001b[38;5;34m1\u001b[0m)         │            \u001b[38;5;34m33\u001b[0m │\n",
       "└─────────────────────────────────┴────────────────────────┴───────────────┘\n"
      ]
     },
     "metadata": {},
     "output_type": "display_data"
    },
    {
     "data": {
      "text/html": [
       "<pre style=\"white-space:pre;overflow-x:auto;line-height:normal;font-family:Menlo,'DejaVu Sans Mono',consolas,'Courier New',monospace\"><span style=\"font-weight: bold\"> Total params: </span><span style=\"color: #00af00; text-decoration-color: #00af00\">2,817</span> (11.00 KB)\n",
       "</pre>\n"
      ],
      "text/plain": [
       "\u001b[1m Total params: \u001b[0m\u001b[38;5;34m2,817\u001b[0m (11.00 KB)\n"
      ]
     },
     "metadata": {},
     "output_type": "display_data"
    },
    {
     "data": {
      "text/html": [
       "<pre style=\"white-space:pre;overflow-x:auto;line-height:normal;font-family:Menlo,'DejaVu Sans Mono',consolas,'Courier New',monospace\"><span style=\"font-weight: bold\"> Trainable params: </span><span style=\"color: #00af00; text-decoration-color: #00af00\">2,817</span> (11.00 KB)\n",
       "</pre>\n"
      ],
      "text/plain": [
       "\u001b[1m Trainable params: \u001b[0m\u001b[38;5;34m2,817\u001b[0m (11.00 KB)\n"
      ]
     },
     "metadata": {},
     "output_type": "display_data"
    },
    {
     "data": {
      "text/html": [
       "<pre style=\"white-space:pre;overflow-x:auto;line-height:normal;font-family:Menlo,'DejaVu Sans Mono',consolas,'Courier New',monospace\"><span style=\"font-weight: bold\"> Non-trainable params: </span><span style=\"color: #00af00; text-decoration-color: #00af00\">0</span> (0.00 B)\n",
       "</pre>\n"
      ],
      "text/plain": [
       "\u001b[1m Non-trainable params: \u001b[0m\u001b[38;5;34m0\u001b[0m (0.00 B)\n"
      ]
     },
     "metadata": {},
     "output_type": "display_data"
    }
   ],
   "source": [
    "model.summary()"
   ]
  },
  {
   "cell_type": "code",
   "execution_count": 28,
   "id": "4d2a32c6",
   "metadata": {
    "execution": {
     "iopub.execute_input": "2024-10-11T17:08:21.261460Z",
     "iopub.status.busy": "2024-10-11T17:08:21.261004Z",
     "iopub.status.idle": "2024-10-11T17:08:21.278486Z",
     "shell.execute_reply": "2024-10-11T17:08:21.277338Z"
    },
    "papermill": {
     "duration": 0.037688,
     "end_time": "2024-10-11T17:08:21.281361",
     "exception": false,
     "start_time": "2024-10-11T17:08:21.243673",
     "status": "completed"
    },
    "tags": []
   },
   "outputs": [],
   "source": [
    "model.compile(\n",
    "    tf.keras.optimizers.Adam(0.01),\n",
    "    tf.keras.losses.BinaryCrossentropy\n",
    ")"
   ]
  },
  {
   "cell_type": "code",
   "execution_count": 29,
   "id": "55f6b60f",
   "metadata": {
    "execution": {
     "iopub.execute_input": "2024-10-11T17:08:21.315708Z",
     "iopub.status.busy": "2024-10-11T17:08:21.314951Z",
     "iopub.status.idle": "2024-10-11T17:08:23.494512Z",
     "shell.execute_reply": "2024-10-11T17:08:23.493309Z"
    },
    "papermill": {
     "duration": 2.199535,
     "end_time": "2024-10-11T17:08:23.497055",
     "exception": false,
     "start_time": "2024-10-11T17:08:21.297520",
     "status": "completed"
    },
    "tags": []
   },
   "outputs": [
    {
     "name": "stdout",
     "output_type": "stream",
     "text": [
      "Epoch 1/10\n",
      "\u001b[1m28/28\u001b[0m \u001b[32m━━━━━━━━━━━━━━━━━━━━\u001b[0m\u001b[37m\u001b[0m \u001b[1m1s\u001b[0m 2ms/step - loss: 0.5764\n",
      "Epoch 2/10\n",
      "\u001b[1m28/28\u001b[0m \u001b[32m━━━━━━━━━━━━━━━━━━━━\u001b[0m\u001b[37m\u001b[0m \u001b[1m0s\u001b[0m 2ms/step - loss: 0.4397 \n",
      "Epoch 3/10\n",
      "\u001b[1m28/28\u001b[0m \u001b[32m━━━━━━━━━━━━━━━━━━━━\u001b[0m\u001b[37m\u001b[0m \u001b[1m0s\u001b[0m 2ms/step - loss: 0.4345 \n",
      "Epoch 4/10\n",
      "\u001b[1m28/28\u001b[0m \u001b[32m━━━━━━━━━━━━━━━━━━━━\u001b[0m\u001b[37m\u001b[0m \u001b[1m0s\u001b[0m 2ms/step - loss: 0.4271\n",
      "Epoch 5/10\n",
      "\u001b[1m28/28\u001b[0m \u001b[32m━━━━━━━━━━━━━━━━━━━━\u001b[0m\u001b[37m\u001b[0m \u001b[1m0s\u001b[0m 2ms/step - loss: 0.4156\n",
      "Epoch 6/10\n",
      "\u001b[1m28/28\u001b[0m \u001b[32m━━━━━━━━━━━━━━━━━━━━\u001b[0m\u001b[37m\u001b[0m \u001b[1m0s\u001b[0m 2ms/step - loss: 0.3742 \n",
      "Epoch 7/10\n",
      "\u001b[1m28/28\u001b[0m \u001b[32m━━━━━━━━━━━━━━━━━━━━\u001b[0m\u001b[37m\u001b[0m \u001b[1m0s\u001b[0m 2ms/step - loss: 0.3571 \n",
      "Epoch 8/10\n",
      "\u001b[1m28/28\u001b[0m \u001b[32m━━━━━━━━━━━━━━━━━━━━\u001b[0m\u001b[37m\u001b[0m \u001b[1m0s\u001b[0m 2ms/step - loss: 0.3642 \n",
      "Epoch 9/10\n",
      "\u001b[1m28/28\u001b[0m \u001b[32m━━━━━━━━━━━━━━━━━━━━\u001b[0m\u001b[37m\u001b[0m \u001b[1m0s\u001b[0m 2ms/step - loss: 0.4230 \n",
      "Epoch 10/10\n",
      "\u001b[1m28/28\u001b[0m \u001b[32m━━━━━━━━━━━━━━━━━━━━\u001b[0m\u001b[37m\u001b[0m \u001b[1m0s\u001b[0m 2ms/step - loss: 0.3759 \n"
     ]
    },
    {
     "data": {
      "text/plain": [
       "<keras.src.callbacks.history.History at 0x7c184f157c10>"
      ]
     },
     "execution_count": 29,
     "metadata": {},
     "output_type": "execute_result"
    }
   ],
   "source": [
    "model.fit(X_train_transformed, y_train, epochs = 10)"
   ]
  },
  {
   "cell_type": "code",
   "execution_count": 30,
   "id": "1797b0c4",
   "metadata": {
    "execution": {
     "iopub.execute_input": "2024-10-11T17:08:23.537912Z",
     "iopub.status.busy": "2024-10-11T17:08:23.537426Z",
     "iopub.status.idle": "2024-10-11T17:08:23.546110Z",
     "shell.execute_reply": "2024-10-11T17:08:23.545007Z"
    },
    "papermill": {
     "duration": 0.032066,
     "end_time": "2024-10-11T17:08:23.548604",
     "exception": false,
     "start_time": "2024-10-11T17:08:23.516538",
     "status": "completed"
    },
    "tags": []
   },
   "outputs": [],
   "source": [
    "def make_prediction(X_pred, output='predictions.csv'):\n",
    "\n",
    "    passenger_ids = X_pred['PassengerId'].values\n",
    "    \n",
    "    X_pred = X_pred.drop(columns = ['PassengerId', 'Name', 'Ticket', 'Cabin'])\n",
    "    X_pred_transformed = preprocessor.transform(X_pred)\n",
    "    X_pred_transformed = X_pred_transformed.reshape((X_pred_transformed.shape[0], 1, X_pred_transformed.shape[1]))\n",
    "\n",
    "    predictions = model.predict(X_pred_transformed)\n",
    "    binary_predictions = (predictions >= 0.5).astype(int).flatten()\n",
    "\n",
    "    predictions_df = pd.DataFrame({\n",
    "        'PassengerId': passenger_ids,\n",
    "        'Survived': binary_predictions\n",
    "    })\n",
    "\n",
    "    predictions_df.to_csv(output, index=False)\n",
    "    \n",
    "    return predictions_df\n",
    "\n",
    "    "
   ]
  },
  {
   "cell_type": "code",
   "execution_count": 31,
   "id": "4574790a",
   "metadata": {
    "execution": {
     "iopub.execute_input": "2024-10-11T17:08:23.589288Z",
     "iopub.status.busy": "2024-10-11T17:08:23.588875Z",
     "iopub.status.idle": "2024-10-11T17:08:23.790842Z",
     "shell.execute_reply": "2024-10-11T17:08:23.789354Z"
    },
    "papermill": {
     "duration": 0.225373,
     "end_time": "2024-10-11T17:08:23.793547",
     "exception": false,
     "start_time": "2024-10-11T17:08:23.568174",
     "status": "completed"
    },
    "tags": []
   },
   "outputs": [
    {
     "name": "stdout",
     "output_type": "stream",
     "text": [
      "\u001b[1m14/14\u001b[0m \u001b[32m━━━━━━━━━━━━━━━━━━━━\u001b[0m\u001b[37m\u001b[0m \u001b[1m0s\u001b[0m 4ms/step\n",
      "     PassengerId  Survived\n",
      "0            892         0\n",
      "1            893         0\n",
      "2            894         0\n",
      "3            895         0\n",
      "4            896         0\n",
      "..           ...       ...\n",
      "413         1305         0\n",
      "414         1306         1\n",
      "415         1307         0\n",
      "416         1308         0\n",
      "417         1309         0\n",
      "\n",
      "[418 rows x 2 columns]\n"
     ]
    }
   ],
   "source": [
    "print(make_prediction(test_data))"
   ]
  },
  {
   "cell_type": "code",
   "execution_count": null,
   "id": "50775d4c",
   "metadata": {
    "papermill": {
     "duration": 0.019446,
     "end_time": "2024-10-11T17:08:23.832860",
     "exception": false,
     "start_time": "2024-10-11T17:08:23.813414",
     "status": "completed"
    },
    "tags": []
   },
   "outputs": [],
   "source": []
  }
 ],
 "metadata": {
  "kaggle": {
   "accelerator": "none",
   "dataSources": [
    {
     "databundleVersionId": 26502,
     "sourceId": 3136,
     "sourceType": "competition"
    }
   ],
   "dockerImageVersionId": 30786,
   "isGpuEnabled": false,
   "isInternetEnabled": false,
   "language": "python",
   "sourceType": "notebook"
  },
  "kernelspec": {
   "display_name": "Python 3",
   "language": "python",
   "name": "python3"
  },
  "language_info": {
   "codemirror_mode": {
    "name": "ipython",
    "version": 3
   },
   "file_extension": ".py",
   "mimetype": "text/x-python",
   "name": "python",
   "nbconvert_exporter": "python",
   "pygments_lexer": "ipython3",
   "version": "3.10.14"
  },
  "papermill": {
   "default_parameters": {},
   "duration": 26.52177,
   "end_time": "2024-10-11T17:08:26.136376",
   "environment_variables": {},
   "exception": null,
   "input_path": "__notebook__.ipynb",
   "output_path": "__notebook__.ipynb",
   "parameters": {},
   "start_time": "2024-10-11T17:07:59.614606",
   "version": "2.6.0"
  }
 },
 "nbformat": 4,
 "nbformat_minor": 5
}
